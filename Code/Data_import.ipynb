{
 "cells": [
  {
   "cell_type": "markdown",
   "metadata": {},
   "source": [
    "Ce fichier servira a importer les données des tableurs excel"
   ]
  },
  {
   "cell_type": "code",
   "execution_count": 1,
   "metadata": {},
   "outputs": [],
   "source": [
    "import pandas as pd"
   ]
  },
  {
   "cell_type": "markdown",
   "metadata": {},
   "source": [
    "Importation des données brutes"
   ]
  },
  {
   "cell_type": "code",
   "execution_count": 2,
   "metadata": {},
   "outputs": [],
   "source": [
    "brut_data_filepath=\"..\\Data\\data_brut.xlsx\"\n",
    "\n",
    "brut_df=pd.read_excel(brut_data_filepath) #On convertit le fichier excel en DataFrame"
   ]
  },
  {
   "cell_type": "markdown",
   "metadata": {},
   "source": [
    "Mise en forme de dictionnaire des données brutes"
   ]
  },
  {
   "cell_type": "code",
   "execution_count": 4,
   "metadata": {},
   "outputs": [
    {
     "name": "stderr",
     "output_type": "stream",
     "text": [
      "C:\\Users\\jerem\\AppData\\Local\\Temp\\ipykernel_25424\\3665539585.py:8: FutureWarning: Series.__getitem__ treating keys as positions is deprecated. In a future version, integer keys will always be treated as labels (consistent with DataFrame behavior). To access a value by position, use `ser.iloc[pos]`\n",
      "  key=brut_df.iloc[i][0]          #on associe key au libellé de la ligne\n",
      "C:\\Users\\jerem\\AppData\\Local\\Temp\\ipykernel_25424\\3665539585.py:14: FutureWarning: Series.__getitem__ treating keys as positions is deprecated. In a future version, integer keys will always be treated as labels (consistent with DataFrame behavior). To access a value by position, use `ser.iloc[pos]`\n",
      "  brut_dict[key].append(brut_df.iloc[i][j])   #on ajoute chaque valeur à la liste vide précédemment crée\n"
     ]
    }
   ],
   "source": [
    "nb_lignes_brut=len(brut_df.index)   #nombre de lignes du tableur excel/DataFrame\n",
    "\n",
    "nb_colonnes_brut=len(brut_df.columns)   #nombre de colonnes du tableur excel/DataFrame\n",
    "\n",
    "brut_dict={}    #on initialise un dictionnaire vide\n",
    "\n",
    "for i in range(0,nb_lignes_brut):   #on parcourt les lignes \n",
    "    key=brut_df.iloc[i][0]          #on associe key au libellé de la ligne\n",
    "\n",
    "    if key not in brut_dict:        #s'il n'existe pas de key correspondant au libellé\n",
    "        brut_dict[key]=[]           #on initialise la clé avec une liste vide\n",
    "\n",
    "    for j in range(1,nb_colonnes_brut):             #on parcourt les colonnes de la ligne i\n",
    "        brut_dict[key].append(brut_df.iloc[i][j])   #on ajoute chaque valeur à la liste vide précédemment crée\n"
   ]
  },
  {
   "cell_type": "markdown",
   "metadata": {},
   "source": [
    "Importation des données CVS-CJO"
   ]
  },
  {
   "cell_type": "code",
   "execution_count": 5,
   "metadata": {},
   "outputs": [],
   "source": [
    "cvs_cjo_data_filepath=\"..\\Data\\CVS_CJO_data.xlsx\"\n",
    "\n",
    "cvs_cjo_df=pd.read_excel(cvs_cjo_data_filepath) #On convertit le fichier excel en DataFrame"
   ]
  },
  {
   "cell_type": "markdown",
   "metadata": {},
   "source": [
    "Mise en forme de dictionnaire des données CVS_CJO"
   ]
  },
  {
   "cell_type": "code",
   "execution_count": 7,
   "metadata": {},
   "outputs": [
    {
     "name": "stderr",
     "output_type": "stream",
     "text": [
      "C:\\Users\\jerem\\AppData\\Local\\Temp\\ipykernel_25424\\599791204.py:8: FutureWarning: Series.__getitem__ treating keys as positions is deprecated. In a future version, integer keys will always be treated as labels (consistent with DataFrame behavior). To access a value by position, use `ser.iloc[pos]`\n",
      "  key=cvs_cjo_df.iloc[i][0]          #on associe key au libellé de la ligne\n",
      "C:\\Users\\jerem\\AppData\\Local\\Temp\\ipykernel_25424\\599791204.py:14: FutureWarning: Series.__getitem__ treating keys as positions is deprecated. In a future version, integer keys will always be treated as labels (consistent with DataFrame behavior). To access a value by position, use `ser.iloc[pos]`\n",
      "  cvs_cjo_dict[key].append(cvs_cjo_df.iloc[i][j])   #on ajoute chaque valeur à la liste vide précédemment crée\n"
     ]
    },
    {
     "name": "stdout",
     "output_type": "stream",
     "text": [
      "[542.56, 535.87, 543.91, 527.23, 514.16, 495.07, 319.08, 465.65, 532.56, 533.44, 524.42, 514.61, 510.91, 507.4, 513.72, 516.54, 524.72, 592.78, 517.01, 514.53, 464.76, 501.46, 510.58, 520.08, 512.58, 520.55, 516.58, 514.52, 511.45, 493.18, 490.05, 482.36, 479.08, 494.28, 480.1, 489.95, 499.59, 501.63, 497.61, 505.27, 492.52, 479.0, 487.49, 496.31, 424.96, 483.24, 518.65, 528.8, 482.59, 511.57, 510.83, 509.97, 495.15, 525.8, 508.22, 519.96, 460.21, 479.37, 484.65, 476.86, 478.95, 470.09, 472.27, 465.56, 475.35, 401.66, 400.56, 453.92, 462.72, 461.13, 480.35, 441.38, 446.49, 425.41, 427.92, 423.63, 418.45, 372.83, 329.43, 368.82, 379.64, 363.56, 360.12, 354.03, 346.88, 350.52, 344.31, 352.74, 339.71, 335.92, 347.73, 332.77, 332.21, 332.79, 325.33, 333.4, 324.14, 322.22, 308.06, 322.74, 295.19, 296.07, 317.65, 311.52, 308.01, 313.61, 321.27, 303.9, 292.91, 293.8, 301.2, 280.75, 202.87, 278.13, 302.52, 294.08, 293.72, 298.6, 293.28, 266.84, 272.15, 279.59, 273.86, 251.39, 242.56, 221.17, 263.83, 282.96, 272.19, 273.76, 270.24, 275.25, 270.91, 267.54, 268.08, 266.24, 266.13, 274.19, 260.53, 261.47, 258.44, 255.49, 230.06, 229.03, 256.25, 254.05, 256.84, 253.54, 252.62, 255.8, 249.96, 245.86, 248.21, 239.15, 230.29, 239.94, 233.38, 235.22, 235.99, 236.87, 233.68, 227.05, 224.62, 218.24, 219.95, 199.64, 209.61, 224.67, 217.97, 220.36, 216.66, 220.75, 222.61, 208.68, 211.96, 204.02, 202.64, 198.86, 192.85, 199.32, 203.55, 193.15, 197.64, 195.26, 199.44, 199.49, 192.09, 187.64, 157.35, 158.25, 170.61, 189.85, 193.92, 195.5, 186.36, 191.96, 187.82, 184.81, 177.57, 185.57, 187.16, 188.2, 188.53, 181.95, 169.45, 165.25, 176.17, 148.33, 174.28, 182.0, 180.39, 177.51, 175.94, 178.61, 169.52, 173.52, 176.32, 174.83, 175.92, 175.15, 170.44, 172.62, 175.17, 168.67, 146.77, 141.58, 164.83, 168.36, 158.1, 172.88, 162.84, 160.94, 159.6, 161.63, 157.94, 154.48, 154.83, 155.61, 152.31, 147.19, 148.77, 145.35, 151.18, 141.55, 141.98, 148.96, 156.79, 152.74, 153.86, 150.01, 166.97, 154.27, 154.82, 150.98, 135.58, 134.19, 143.16, 144.66, 140.64, 140.22, 128.35, 139.25, 137.51, 135.97, 130.73, 129.74, 131.03, 131.53, 128.39, 130.36, 123.5, 128.27, 128.67, 127.97, 128.49, 126.36, 121.07, 126.64, 123.25, 121.19, 121.05, 124.02, 123.52, 129.28, 119.86, 99.9, 89.62, 89.12, 87.75, 87.02, 87.08, 87.02, 87.41, 84.83, 85.74, 88.39, 87.75, 90.32, 86.48, 87.23, 95.0, 97.23, 98.27, 99.11, 103.09, 103.32, 102.01, 99.23, 97.42, 99.98, 103.27, 102.05, 102.43, 102.56, 101.11, 101.0, 97.77, 97.18, 97.51, 97.62, 93.8, 94.23, 92.76, 94.11, 91.89, 88.49, 89.95, 92.6, 92.98, 90.01, 89.28, 89.47, 91.22, 90.27, 92.52, 91.78, 90.65, 90.74, 93.33, 93.31, 92.28, 94.68, 93.48, 92.87, 92.15, 93.21, 91.94, 92.43, 93.21, 93.86, 91.38, 89.98, 72.33, 75.36, 82.86, 88.72, 89.27, 91.31, 89.96, 87.74, 86.51, 85.2, 84.72, 58.98, 52.72, 75.1, 81.7, 82.07, 79.33, 84.23, 85.03, 83.43, 83.95, 82.49, 81.22, 73.83, 81.2, 82.72, 80.6, 81.22, 69.55, 67.45, 78.19, 76.55, 78.35, 78.46, 78.81, 74.61, 76.39, 74.18, 71.33, 72.78, 70.64, 68.83, 71.24, 71.21, 70.31, 70.08, 67.36, 70.48, 72.38, 68.97, 67.03, 72.16, 72.62, 70.5, 71.58, 67.01]\n"
     ]
    }
   ],
   "source": [
    "nb_lignes_cvs_cjo=len(cvs_cjo_df.index)   #nombre de lignes du tableur excel/DataFrame\n",
    "\n",
    "nb_colonnes_cvs_cjo=len(cvs_cjo_df.columns)   #nombre de colonnes du tableur excel/DataFrame\n",
    "\n",
    "cvs_cjo_dict={}    #on initialise un dictionnaire vide\n",
    "\n",
    "for i in range(0,nb_lignes_cvs_cjo):   #on parcourt les lignes \n",
    "    key=cvs_cjo_df.iloc[i][0]          #on associe key au libellé de la ligne\n",
    "\n",
    "    if key not in cvs_cjo_dict:        #s'il n'existe pas de key correspondant au libellé\n",
    "        cvs_cjo_dict[key]=[]           #on initialise la clé avec une liste vide\n",
    "\n",
    "    for j in range(1,nb_colonnes_cvs_cjo):             #on parcourt les colonnes de la ligne i\n",
    "        cvs_cjo_dict[key].append(cvs_cjo_df.iloc[i][j])   #on ajoute chaque valeur à la liste vide précédemment crée\n",
    "\n",
    "#print(cvs_cjo_dict[\"Indice CVS-CJO de la production industrielle (base 100 en 2015) - Extraction d\\'hydrocarbures (NAF rév. 2, niveau division, poste 06)\"])   #test"
   ]
  }
 ],
 "metadata": {
  "kernelspec": {
   "display_name": "Python 3",
   "language": "python",
   "name": "python3"
  },
  "language_info": {
   "codemirror_mode": {
    "name": "ipython",
    "version": 3
   },
   "file_extension": ".py",
   "mimetype": "text/x-python",
   "name": "python",
   "nbconvert_exporter": "python",
   "pygments_lexer": "ipython3",
   "version": "3.11.9"
  }
 },
 "nbformat": 4,
 "nbformat_minor": 2
}

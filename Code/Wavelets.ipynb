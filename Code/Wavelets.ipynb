{
 "cells": [
  {
   "cell_type": "markdown",
   "metadata": {},
   "source": [
    "Ce fichier servira a importer les données des tableurs excel"
   ]
  },
  {
   "cell_type": "code",
   "execution_count": 12,
   "metadata": {},
   "outputs": [],
   "source": [
    "import pandas as pd\n",
    "import numpy as np\n",
    "import pywt\n",
    "import matplotlib.pyplot as plt\n",
    "from scipy.signal import spectrogram"
   ]
  },
  {
   "cell_type": "markdown",
   "metadata": {},
   "source": [
    "Importation des données brutes"
   ]
  },
  {
   "cell_type": "code",
   "execution_count": 13,
   "metadata": {},
   "outputs": [],
   "source": [
    "brut_data_filepath=\"..\\Data\\data_brut.xlsx\"\n",
    "\n",
    "brut_df=pd.read_excel(brut_data_filepath) #On convertit le fichier excel en DataFrame"
   ]
  },
  {
   "cell_type": "markdown",
   "metadata": {},
   "source": [
    "Mise en forme de dictionnaire des données brutes"
   ]
  },
  {
   "cell_type": "code",
   "execution_count": 14,
   "metadata": {},
   "outputs": [],
   "source": [
    "nb_lignes_brut=len(brut_df.index)   #nombre de lignes du tableur excel/DataFrame\n",
    "\n",
    "nb_colonnes_brut=len(brut_df.columns)   #nombre de colonnes du tableur excel/DataFrame\n",
    "\n",
    "brut_dict={}    #on initialise un dictionnaire vide\n",
    "\n",
    "for i in range(0,nb_lignes_brut):   #on parcourt les lignes \n",
    "    key=brut_df.iloc[i,0]          #on associe key au libellé de la ligne\n",
    "\n",
    "    if key not in brut_dict:        #s'il n'existe pas de key correspondant au libellé\n",
    "        brut_dict[key]=[]           #on initialise la clé avec une liste vide\n",
    "\n",
    "    for j in range(1,nb_colonnes_brut):             #on parcourt les colonnes de la ligne i\n",
    "        brut_dict[key].append(brut_df.iloc[i, j])   #on ajoute chaque valeur à la liste vide précédemment crée\n"
   ]
  },
  {
   "cell_type": "markdown",
   "metadata": {},
   "source": [
    "Importation des données CVS-CJO"
   ]
  },
  {
   "cell_type": "code",
   "execution_count": 15,
   "metadata": {},
   "outputs": [],
   "source": [
    "cvs_cjo_data_filepath=\"..\\Data\\CVS_CJO_data.xlsx\"\n",
    "\n",
    "cvs_cjo_df=pd.read_excel(cvs_cjo_data_filepath) #On convertit le fichier excel en DataFrame"
   ]
  },
  {
   "cell_type": "markdown",
   "metadata": {},
   "source": [
    "Mise en forme de dictionnaire des données CVS_CJO"
   ]
  },
  {
   "cell_type": "code",
   "execution_count": 16,
   "metadata": {},
   "outputs": [],
   "source": [
    "nb_lignes_cvs_cjo=len(cvs_cjo_df.index)   #nombre de lignes du tableur excel/DataFrame\n",
    "\n",
    "nb_colonnes_cvs_cjo=len(cvs_cjo_df.columns)   #nombre de colonnes du tableur excel/DataFrame\n",
    "\n",
    "cvs_cjo_dict={}    #on initialise un dictionnaire vide\n",
    "\n",
    "for i in range(0,nb_lignes_cvs_cjo):   #on parcourt les lignes \n",
    "    key=cvs_cjo_df.iloc[i,0]          #on associe key au libellé de la ligne\n",
    "\n",
    "    if key not in cvs_cjo_dict:        #s'il n'existe pas de key correspondant au libellé\n",
    "        cvs_cjo_dict[key]=[]           #on initialise la clé avec une liste vide\n",
    "\n",
    "    for j in range(1,nb_colonnes_cvs_cjo):             #on parcourt les colonnes de la ligne i\n",
    "        cvs_cjo_dict[key].append(cvs_cjo_df.iloc[i,j])   #on ajoute chaque valeur à la liste vide précédemment crée\n",
    "\n",
    "#print(cvs_cjo_dict[\"Indice CVS-CJO de la production industrielle (base 100 en 2015) - Extraction d\\'hydrocarbures (NAF rév. 2, niveau division, poste 06)\"])   #test"
   ]
  },
  {
   "cell_type": "markdown",
   "metadata": {},
   "source": [
    "Décomposition d'une série een coefficients d'ondelette"
   ]
  },
  {
   "cell_type": "code",
   "execution_count": null,
   "metadata": {},
   "outputs": [],
   "source": [
    "\n",
    "data = cvs_cjo_dict[\"Indice CVS-CJO de la production industrielle (base 100 en 2015) - Fabrication d\\'autres matériels de transport (NAF rév. 2, niveau division, poste 30)\"]\n",
    "data = np.array(data)\n",
    "\n",
    "\n",
    "# Appliquer la transformée par ondelettes\n",
    "wavelet = 'db1'  # db1 est l'ondelette de Daubechies\n",
    "coeffs = pywt.wavedec(data, wavelet)\n",
    "\n",
    "# Affichage des coefficients de la transformée par ondelettes\n",
    "plt.figure(figsize=(14, 8))\n",
    "\n",
    "plt.subplot(2, 1, 1)\n",
    "for i, coeff in enumerate(coeffs):\n",
    "    plt.plot(coeff, label=f'Coefficient {i}')\n",
    "plt.legend()\n",
    "plt.title('Coefficients de la transformée par ondelettes')\n",
    "\n",
    "# Calculer et afficher le spectrogramme\n",
    "plt.subplot(2, 1, 2)\n",
    "frequencies, times, Sxx = spectrogram(data, fs=1.0, nperseg=256, noverlap=128)\n",
    "plt.pcolormesh(times, frequencies, 10 * np.log10(Sxx), shading='gouraud')\n",
    "plt.ylabel('Fréquence [Hz]')\n",
    "plt.xlabel('Temps [s]')\n",
    "plt.title('Spectrogramme')\n",
    "\n",
    "plt.tight_layout()\n",
    "plt.show()\n"
   ]
  },
  {
   "cell_type": "markdown",
   "metadata": {},
   "source": [
    "Les couleurs représentent la puissance ou l'amplitude des fréquences. Les couleurs plus claires (jaune, vert clair) indiquent une plus grande amplitude.\n",
    "Les coefficients suivants (1 à 8) sont les détails des différents niveaux de décomposition. Ils capturent les fluctuations et les variations rapides dans le signal.\n",
    "Plus le numéro du coefficient est élevé, plus le détail capturé est fin et spécifique à des variations de haute fréquence dans le signal."
   ]
  }
 ],
 "metadata": {
  "kernelspec": {
   "display_name": "Python 3",
   "language": "python",
   "name": "python3"
  },
  "language_info": {
   "codemirror_mode": {
    "name": "ipython",
    "version": 3
   },
   "file_extension": ".py",
   "mimetype": "text/x-python",
   "name": "python",
   "nbconvert_exporter": "python",
   "pygments_lexer": "ipython3",
   "version": "3.11.9"
  }
 },
 "nbformat": 4,
 "nbformat_minor": 2
}
